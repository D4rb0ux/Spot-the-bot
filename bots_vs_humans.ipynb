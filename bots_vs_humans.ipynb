{
 "cells": [
  {
   "cell_type": "code",
   "execution_count": 251,
   "id": "0f658bcb",
   "metadata": {},
   "outputs": [],
   "source": [
    "from sklearn.manifold import TSNE\n",
    "import numpy as np\n",
    "import pandas as pd\n",
    "import matplotlib.pyplot as plt\n",
    "import seaborn as sns"
   ]
  },
  {
   "cell_type": "markdown",
   "id": "763f1c5f",
   "metadata": {},
   "source": [
    "## Общая статистика по лучшим кластеризациям"
   ]
  },
  {
   "cell_type": "markdown",
   "id": "4aa09d75",
   "metadata": {},
   "source": [
    "**Humans**"
   ]
  },
  {
   "cell_type": "code",
   "execution_count": 252,
   "id": "c3ea1a04",
   "metadata": {},
   "outputs": [],
   "source": [
    "# 2nd best human [DB]\n",
    "\n",
    "A = np.load('/Users/veronica/Desktop/assigns_k20_l17.npy', allow_pickle=True)\n",
    "M = np.load('/Users/veronica/Desktop/medoids_k20_l17.npy', allow_pickle=True)\n",
    "D = np.load('/Users/veronica/Desktop/dimentions_k20_l17.npy', allow_pickle=True)\n",
    "X = np.load('/Users/veronica/Desktop/datasetRU_k6n3_even_512.npy', allow_pickle=True)\n",
    "X = np.unique(X, axis=0)\n",
    "\n",
    "feat_cols = [str(i) for i in range(X.shape[1]) ]\n",
    "df = pd.DataFrame(X,columns=feat_cols)\n",
    "df['y'] = A.astype(int)"
   ]
  },
  {
   "cell_type": "code",
   "execution_count": 253,
   "id": "303bca72",
   "metadata": {},
   "outputs": [
    {
     "name": "stdout",
     "output_type": "stream",
     "text": [
      "процент шума:  25.695844579143667\n"
     ]
    }
   ],
   "source": [
    "# шум\n",
    "\n",
    "df_noise = df[df['y'] == -1]\n",
    "print('процент шума: ', len(df_noise) / len(df) * 100)"
   ]
  },
  {
   "cell_type": "code",
   "execution_count": 254,
   "id": "1f971b45",
   "metadata": {},
   "outputs": [],
   "source": [
    "meds = list(M.astype(int))\n",
    "size_of_clusters = []\n",
    "\n",
    "for m in meds:\n",
    "    df_i = df[df['y'] == m]\n",
    "    df_i = df_i.reset_index(drop=True)\n",
    "    size_of_clusters.append(len(df_i))\n",
    "\n",
    "norm_size_of_clusters_bymax = [x/max(size_of_clusters) for x in size_of_clusters]\n",
    "norm_size_of_clusters_bylen = [x/len(df) for x in size_of_clusters]"
   ]
  },
  {
   "cell_type": "code",
   "execution_count": 255,
   "id": "9443615b",
   "metadata": {},
   "outputs": [],
   "source": [
    "dist_cent = []\n",
    "dist_med = []\n",
    "\n",
    "for m in meds:\n",
    "    df_i = df[df['y'] == m]\n",
    "    df_i = df_i.drop(columns='y')\n",
    "    medoid = df.iloc[[m]]\n",
    "    medoid = medoid.drop(columns='y')\n",
    "    centroid = df_i.mean()\n",
    "    for index, row in df_i.iterrows():\n",
    "        dist_med.append(np.linalg.norm(row - medoid))\n",
    "        dist_cent.append(np.linalg.norm(row - centroid))"
   ]
  },
  {
   "cell_type": "code",
   "execution_count": 256,
   "id": "728a0a55",
   "metadata": {},
   "outputs": [],
   "source": [
    "results = pd.read_csv('/Users/veronica/Desktop/results_k20_l17.csv')\n",
    "S, I, DB = float(results['S']), float(results['I']), float(results['DB'])"
   ]
  },
  {
   "cell_type": "code",
   "execution_count": 257,
   "id": "39851308",
   "metadata": {},
   "outputs": [
    {
     "data": {
      "text/html": [
       "<div>\n",
       "<style scoped>\n",
       "    .dataframe tbody tr th:only-of-type {\n",
       "        vertical-align: middle;\n",
       "    }\n",
       "\n",
       "    .dataframe tbody tr th {\n",
       "        vertical-align: top;\n",
       "    }\n",
       "\n",
       "    .dataframe thead th {\n",
       "        text-align: right;\n",
       "    }\n",
       "</style>\n",
       "<table border=\"1\" class=\"dataframe\">\n",
       "  <thead>\n",
       "    <tr style=\"text-align: right;\">\n",
       "      <th></th>\n",
       "      <th>2nd best human [DB]</th>\n",
       "    </tr>\n",
       "  </thead>\n",
       "  <tbody>\n",
       "    <tr>\n",
       "      <th>0</th>\n",
       "      <td>-0.180853</td>\n",
       "    </tr>\n",
       "    <tr>\n",
       "      <th>1</th>\n",
       "      <td>0.009412</td>\n",
       "    </tr>\n",
       "    <tr>\n",
       "      <th>2</th>\n",
       "      <td>3.714717</td>\n",
       "    </tr>\n",
       "    <tr>\n",
       "      <th>3</th>\n",
       "      <td>3.173021</td>\n",
       "    </tr>\n",
       "    <tr>\n",
       "      <th>4</th>\n",
       "      <td>0.743042</td>\n",
       "    </tr>\n",
       "    <tr>\n",
       "      <th>5</th>\n",
       "      <td>1.804130</td>\n",
       "    </tr>\n",
       "    <tr>\n",
       "      <th>6</th>\n",
       "      <td>2.372225</td>\n",
       "    </tr>\n",
       "    <tr>\n",
       "      <th>7</th>\n",
       "      <td>0.256958</td>\n",
       "    </tr>\n",
       "    <tr>\n",
       "      <th>8</th>\n",
       "      <td>5767.600000</td>\n",
       "    </tr>\n",
       "  </tbody>\n",
       "</table>\n",
       "</div>"
      ],
      "text/plain": [
       "   2nd best human [DB]\n",
       "0            -0.180853\n",
       "1             0.009412\n",
       "2             3.714717\n",
       "3             3.173021\n",
       "4             0.743042\n",
       "5             1.804130\n",
       "6             2.372225\n",
       "7             0.256958\n",
       "8          5767.600000"
      ]
     },
     "execution_count": 257,
     "metadata": {},
     "output_type": "execute_result"
    }
   ],
   "source": [
    "stats1 = [S, I, DB, sum(norm_size_of_clusters_bymax), sum(norm_size_of_clusters_bylen), np.mean(dist_cent), np.mean(dist_med), len(df_noise) / len(df), np.mean(size_of_clusters)]\n",
    "stats1 = pd.DataFrame(stats1, columns=['2nd best human [DB]'])\n",
    "stats1"
   ]
  },
  {
   "cell_type": "markdown",
   "id": "c12d93b9",
   "metadata": {},
   "source": [
    "**Bots**"
   ]
  },
  {
   "cell_type": "code",
   "execution_count": 258,
   "id": "6e3a8064",
   "metadata": {},
   "outputs": [],
   "source": [
    "# best bot [I Index]\n",
    "\n",
    "Ab = np.load('/Users/veronica/Desktop/bot_assigns_k8_l17.npy', allow_pickle=True)\n",
    "Mb = np.load('/Users/veronica/Desktop/bot_medoids_k8_l17.npy', allow_pickle=True)\n",
    "Db = np.load('/Users/veronica/Desktop/bot_dimentions_k8_l17.npy', allow_pickle=True)\n",
    "Xb = np.load('/Users/veronica/Desktop/BotDataset_k6n3_94065.npy', allow_pickle=True)\n",
    "Xb = np.unique(Xb, axis=0)\n",
    "\n",
    "feat_cols = [str(i) for i in range(Xb.shape[1]) ]\n",
    "df = pd.DataFrame(Xb,columns=feat_cols)\n",
    "df['y'] = Ab.astype(int)\n",
    "df\n",
    "\n",
    "results = pd.read_csv('/Users/veronica/Desktop/bot_results_k8_l17.csv')\n",
    "S, I, DB = float(results['S']), float(results['I']), float(results['DB'])"
   ]
  },
  {
   "cell_type": "code",
   "execution_count": 259,
   "id": "5114afac",
   "metadata": {},
   "outputs": [
    {
     "name": "stdout",
     "output_type": "stream",
     "text": [
      "процент шума:  26.426909526025394\n"
     ]
    }
   ],
   "source": [
    "# шум\n",
    "\n",
    "df_noise = df[df['y'] == -1]\n",
    "print('процент шума: ', len(df_noise) / len(df) * 100)"
   ]
  },
  {
   "cell_type": "code",
   "execution_count": 260,
   "id": "632cdd91",
   "metadata": {},
   "outputs": [],
   "source": [
    "meds = list(Mb.astype(int))\n",
    "size_of_clusters = []\n",
    "\n",
    "for m in meds:\n",
    "    df_i = df[df['y'] == m]\n",
    "    df_i = df_i.reset_index(drop=True)\n",
    "    size_of_clusters.append(len(df_i))\n",
    "\n",
    "norm_size_of_clusters_bymax = [x/max(size_of_clusters) for x in size_of_clusters]\n",
    "norm_size_of_clusters_bylen = [x/len(df) for x in size_of_clusters]"
   ]
  },
  {
   "cell_type": "code",
   "execution_count": 261,
   "id": "6952a116",
   "metadata": {},
   "outputs": [],
   "source": [
    "dist_cent = []\n",
    "dist_med = []\n",
    "\n",
    "for m in meds:\n",
    "    df_i = df[df['y'] == m]\n",
    "    df_i = df_i.drop(columns='y')\n",
    "    medoid = df.iloc[[m]]\n",
    "    medoid = medoid.drop(columns='y')\n",
    "    centroid = df_i.mean()\n",
    "    for index, row in df_i.iterrows():\n",
    "        dist_med.append(np.linalg.norm(row - medoid))\n",
    "        dist_cent.append(np.linalg.norm(row - centroid))"
   ]
  },
  {
   "cell_type": "code",
   "execution_count": 262,
   "id": "0d20e965",
   "metadata": {},
   "outputs": [
    {
     "data": {
      "text/html": [
       "<div>\n",
       "<style scoped>\n",
       "    .dataframe tbody tr th:only-of-type {\n",
       "        vertical-align: middle;\n",
       "    }\n",
       "\n",
       "    .dataframe tbody tr th {\n",
       "        vertical-align: top;\n",
       "    }\n",
       "\n",
       "    .dataframe thead th {\n",
       "        text-align: right;\n",
       "    }\n",
       "</style>\n",
       "<table border=\"1\" class=\"dataframe\">\n",
       "  <thead>\n",
       "    <tr style=\"text-align: right;\">\n",
       "      <th></th>\n",
       "      <th>best bot [I Index]</th>\n",
       "    </tr>\n",
       "  </thead>\n",
       "  <tbody>\n",
       "    <tr>\n",
       "      <th>0</th>\n",
       "      <td>-0.036539</td>\n",
       "    </tr>\n",
       "    <tr>\n",
       "      <th>1</th>\n",
       "      <td>0.056368</td>\n",
       "    </tr>\n",
       "    <tr>\n",
       "      <th>2</th>\n",
       "      <td>2.833617</td>\n",
       "    </tr>\n",
       "    <tr>\n",
       "      <th>3</th>\n",
       "      <td>2.980610</td>\n",
       "    </tr>\n",
       "    <tr>\n",
       "      <th>4</th>\n",
       "      <td>0.735731</td>\n",
       "    </tr>\n",
       "    <tr>\n",
       "      <th>5</th>\n",
       "      <td>2.706293</td>\n",
       "    </tr>\n",
       "    <tr>\n",
       "      <th>6</th>\n",
       "      <td>3.240494</td>\n",
       "    </tr>\n",
       "    <tr>\n",
       "      <th>7</th>\n",
       "      <td>0.264269</td>\n",
       "    </tr>\n",
       "    <tr>\n",
       "      <th>8</th>\n",
       "      <td>6917.250000</td>\n",
       "    </tr>\n",
       "  </tbody>\n",
       "</table>\n",
       "</div>"
      ],
      "text/plain": [
       "   best bot [I Index]\n",
       "0           -0.036539\n",
       "1            0.056368\n",
       "2            2.833617\n",
       "3            2.980610\n",
       "4            0.735731\n",
       "5            2.706293\n",
       "6            3.240494\n",
       "7            0.264269\n",
       "8         6917.250000"
      ]
     },
     "execution_count": 262,
     "metadata": {},
     "output_type": "execute_result"
    }
   ],
   "source": [
    "stats2 = [S, I, DB, sum(norm_size_of_clusters_bymax), sum(norm_size_of_clusters_bylen), np.mean(dist_cent), np.mean(dist_med), len(df_noise) / len(df), np.mean(size_of_clusters)]\n",
    "stats2 = pd.DataFrame(stats2, columns=['best bot [I Index]'])\n",
    "stats2"
   ]
  },
  {
   "cell_type": "code",
   "execution_count": 263,
   "id": "2dd64d51",
   "metadata": {},
   "outputs": [],
   "source": [
    "# best human [I Index]\n",
    "\n",
    "A = np.load('/Users/veronica/Desktop/assigns_k4_l17.npy', allow_pickle=True)\n",
    "M = np.load('/Users/veronica/Desktop/medoids_k4_l17.npy', allow_pickle=True)\n",
    "D = np.load('/Users/veronica/Desktop/dimentions_k4_l17.npy', allow_pickle=True)\n",
    "X = np.load('/Users/veronica/Desktop/datasetRU_k6n3_even_512.npy', allow_pickle=True)\n",
    "X = np.unique(X, axis=0)\n",
    "\n",
    "feat_cols = [str(i) for i in range(X.shape[1]) ]\n",
    "df = pd.DataFrame(X,columns=feat_cols)\n",
    "df['y'] = A.astype(int)"
   ]
  },
  {
   "cell_type": "code",
   "execution_count": 264,
   "id": "5edbe410",
   "metadata": {},
   "outputs": [
    {
     "name": "stdout",
     "output_type": "stream",
     "text": [
      "процент шума:  12.801221311105815\n"
     ]
    }
   ],
   "source": [
    "# шум\n",
    "\n",
    "df_noise = df[df['y'] == -1]\n",
    "print('процент шума: ', len(df_noise) / len(df) * 100)"
   ]
  },
  {
   "cell_type": "code",
   "execution_count": 265,
   "id": "ee6a24ba",
   "metadata": {},
   "outputs": [],
   "source": [
    "meds = list(M.astype(int))\n",
    "size_of_clusters = []\n",
    "\n",
    "for m in meds:\n",
    "    df_i = df[df['y'] == m]\n",
    "    df_i = df_i.reset_index(drop=True)\n",
    "    size_of_clusters.append(len(df_i))\n",
    "\n",
    "norm_size_of_clusters_bymax = [x/max(size_of_clusters) for x in size_of_clusters]\n",
    "norm_size_of_clusters_bylen = [x/len(df) for x in size_of_clusters]"
   ]
  },
  {
   "cell_type": "code",
   "execution_count": 266,
   "id": "dd1ba7f5",
   "metadata": {},
   "outputs": [],
   "source": [
    "dist_cent = []\n",
    "dist_med = []\n",
    "\n",
    "for m in meds:\n",
    "    df_i = df[df['y'] == m]\n",
    "    df_i = df_i.drop(columns='y')\n",
    "    medoid = df.iloc[[m]]\n",
    "    medoid = medoid.drop(columns='y')\n",
    "    centroid = df_i.mean()\n",
    "    for index, row in df_i.iterrows():\n",
    "        dist_med.append(np.linalg.norm(row - medoid))\n",
    "        dist_cent.append(np.linalg.norm(row - centroid))"
   ]
  },
  {
   "cell_type": "code",
   "execution_count": 267,
   "id": "e6b39bcb",
   "metadata": {},
   "outputs": [],
   "source": [
    "results = pd.read_csv('/Users/veronica/Desktop/results_k4_l17.csv')\n",
    "S, I, DB = float(results['S']), float(results['I']), float(results['DB'])"
   ]
  },
  {
   "cell_type": "code",
   "execution_count": 268,
   "id": "b6284e78",
   "metadata": {},
   "outputs": [
    {
     "data": {
      "text/html": [
       "<div>\n",
       "<style scoped>\n",
       "    .dataframe tbody tr th:only-of-type {\n",
       "        vertical-align: middle;\n",
       "    }\n",
       "\n",
       "    .dataframe tbody tr th {\n",
       "        vertical-align: top;\n",
       "    }\n",
       "\n",
       "    .dataframe thead th {\n",
       "        text-align: right;\n",
       "    }\n",
       "</style>\n",
       "<table border=\"1\" class=\"dataframe\">\n",
       "  <thead>\n",
       "    <tr style=\"text-align: right;\">\n",
       "      <th></th>\n",
       "      <th>best human [I Index]</th>\n",
       "    </tr>\n",
       "  </thead>\n",
       "  <tbody>\n",
       "    <tr>\n",
       "      <th>0</th>\n",
       "      <td>0.066502</td>\n",
       "    </tr>\n",
       "    <tr>\n",
       "      <th>1</th>\n",
       "      <td>0.094058</td>\n",
       "    </tr>\n",
       "    <tr>\n",
       "      <th>2</th>\n",
       "      <td>2.031286</td>\n",
       "    </tr>\n",
       "    <tr>\n",
       "      <th>3</th>\n",
       "      <td>1.918645</td>\n",
       "    </tr>\n",
       "    <tr>\n",
       "      <th>4</th>\n",
       "      <td>0.871988</td>\n",
       "    </tr>\n",
       "    <tr>\n",
       "      <th>5</th>\n",
       "      <td>2.184023</td>\n",
       "    </tr>\n",
       "    <tr>\n",
       "      <th>6</th>\n",
       "      <td>3.197207</td>\n",
       "    </tr>\n",
       "    <tr>\n",
       "      <th>7</th>\n",
       "      <td>0.128012</td>\n",
       "    </tr>\n",
       "    <tr>\n",
       "      <th>8</th>\n",
       "      <td>33842.500000</td>\n",
       "    </tr>\n",
       "  </tbody>\n",
       "</table>\n",
       "</div>"
      ],
      "text/plain": [
       "   best human [I Index]\n",
       "0              0.066502\n",
       "1              0.094058\n",
       "2              2.031286\n",
       "3              1.918645\n",
       "4              0.871988\n",
       "5              2.184023\n",
       "6              3.197207\n",
       "7              0.128012\n",
       "8          33842.500000"
      ]
     },
     "execution_count": 268,
     "metadata": {},
     "output_type": "execute_result"
    }
   ],
   "source": [
    "stats3 = [S, I, DB, sum(norm_size_of_clusters_bymax), sum(norm_size_of_clusters_bylen), np.mean(dist_cent), np.mean(dist_med), len(df_noise) / len(df), np.mean(size_of_clusters)]\n",
    "stats3 = pd.DataFrame(stats3, columns=['best human [I Index]'])\n",
    "stats3"
   ]
  },
  {
   "cell_type": "code",
   "execution_count": 269,
   "id": "85088786",
   "metadata": {},
   "outputs": [],
   "source": [
    "# best human [Silhouette & DB]\n",
    "\n",
    "A = np.load('/Users/veronica/Desktop/assigns_k2_l14.npy', allow_pickle=True)\n",
    "M = np.load('/Users/veronica/Desktop/medoids_k2_l14.npy', allow_pickle=True)\n",
    "D = np.load('/Users/veronica/Desktop/dimentions_k2_l14.npy', allow_pickle=True)\n",
    "X = np.load('/Users/veronica/Desktop/datasetRU_k6n3_even_512.npy', allow_pickle=True)\n",
    "X = np.unique(X, axis=0)\n",
    "\n",
    "feat_cols = [str(i) for i in range(X.shape[1]) ]\n",
    "df = pd.DataFrame(X,columns=feat_cols)\n",
    "df['y'] = A.astype(int)\n",
    "\n",
    "results = pd.read_csv('/Users/veronica/Desktop/results_k2_l14.csv')\n",
    "S, I, DB = float(results['S']), float(results['I']), float(results['DB'])"
   ]
  },
  {
   "cell_type": "code",
   "execution_count": 270,
   "id": "89d20cfc",
   "metadata": {},
   "outputs": [
    {
     "name": "stdout",
     "output_type": "stream",
     "text": [
      "процент шума:  6.383540642734293\n"
     ]
    }
   ],
   "source": [
    "# шум\n",
    "\n",
    "df_noise = df[df['y'] == -1]\n",
    "print('процент шума: ', len(df_noise) / len(df) * 100)"
   ]
  },
  {
   "cell_type": "code",
   "execution_count": 271,
   "id": "8782857d",
   "metadata": {},
   "outputs": [],
   "source": [
    "meds = list(M.astype(int))\n",
    "size_of_clusters = []\n",
    "\n",
    "for m in meds:\n",
    "    df_i = df[df['y'] == m]\n",
    "    df_i = df_i.reset_index(drop=True)\n",
    "    size_of_clusters.append(len(df_i))\n",
    "\n",
    "norm_size_of_clusters_bymax = [x/max(size_of_clusters) for x in size_of_clusters]\n",
    "norm_size_of_clusters_bylen = [x/len(df) for x in size_of_clusters]"
   ]
  },
  {
   "cell_type": "code",
   "execution_count": 272,
   "id": "d505a260",
   "metadata": {},
   "outputs": [],
   "source": [
    "dist_cent = []\n",
    "dist_med = []\n",
    "\n",
    "for m in meds:\n",
    "    df_i = df[df['y'] == m]\n",
    "    df_i = df_i.drop(columns='y')\n",
    "    medoid = df.iloc[[m]]\n",
    "    medoid = medoid.drop(columns='y')\n",
    "    centroid = df_i.mean()\n",
    "    for index, row in df_i.iterrows():\n",
    "        dist_med.append(np.linalg.norm(row - medoid))\n",
    "        dist_cent.append(np.linalg.norm(row - centroid))"
   ]
  },
  {
   "cell_type": "code",
   "execution_count": 273,
   "id": "79c302af",
   "metadata": {},
   "outputs": [
    {
     "data": {
      "text/html": [
       "<div>\n",
       "<style scoped>\n",
       "    .dataframe tbody tr th:only-of-type {\n",
       "        vertical-align: middle;\n",
       "    }\n",
       "\n",
       "    .dataframe tbody tr th {\n",
       "        vertical-align: top;\n",
       "    }\n",
       "\n",
       "    .dataframe thead th {\n",
       "        text-align: right;\n",
       "    }\n",
       "</style>\n",
       "<table border=\"1\" class=\"dataframe\">\n",
       "  <thead>\n",
       "    <tr style=\"text-align: right;\">\n",
       "      <th></th>\n",
       "      <th>best human [Silhouette &amp; DB]</th>\n",
       "    </tr>\n",
       "  </thead>\n",
       "  <tbody>\n",
       "    <tr>\n",
       "      <th>0</th>\n",
       "      <td>0.613644</td>\n",
       "    </tr>\n",
       "    <tr>\n",
       "      <th>1</th>\n",
       "      <td>0.467475</td>\n",
       "    </tr>\n",
       "    <tr>\n",
       "      <th>2</th>\n",
       "      <td>4.143210</td>\n",
       "    </tr>\n",
       "    <tr>\n",
       "      <th>3</th>\n",
       "      <td>1.008998</td>\n",
       "    </tr>\n",
       "    <tr>\n",
       "      <th>4</th>\n",
       "      <td>0.936165</td>\n",
       "    </tr>\n",
       "    <tr>\n",
       "      <th>5</th>\n",
       "      <td>2.615066</td>\n",
       "    </tr>\n",
       "    <tr>\n",
       "      <th>6</th>\n",
       "      <td>2.671642</td>\n",
       "    </tr>\n",
       "    <tr>\n",
       "      <th>7</th>\n",
       "      <td>0.063835</td>\n",
       "    </tr>\n",
       "    <tr>\n",
       "      <th>8</th>\n",
       "      <td>72666.500000</td>\n",
       "    </tr>\n",
       "  </tbody>\n",
       "</table>\n",
       "</div>"
      ],
      "text/plain": [
       "   best human [Silhouette & DB]\n",
       "0                      0.613644\n",
       "1                      0.467475\n",
       "2                      4.143210\n",
       "3                      1.008998\n",
       "4                      0.936165\n",
       "5                      2.615066\n",
       "6                      2.671642\n",
       "7                      0.063835\n",
       "8                  72666.500000"
      ]
     },
     "execution_count": 273,
     "metadata": {},
     "output_type": "execute_result"
    }
   ],
   "source": [
    "stats4 = [S, I, DB, sum(norm_size_of_clusters_bymax), sum(norm_size_of_clusters_bylen), np.mean(dist_cent), np.mean(dist_med), len(df_noise) / len(df), np.mean(size_of_clusters)]\n",
    "stats4 = pd.DataFrame(stats4, columns=['best human [Silhouette & DB]'])\n",
    "stats4"
   ]
  },
  {
   "cell_type": "code",
   "execution_count": 274,
   "id": "2ebc1acc",
   "metadata": {},
   "outputs": [],
   "source": [
    "# best bot [Silhouette & DB]\n",
    "\n",
    "Ab = np.load('/Users/veronica/Desktop/bot_assigns_k2_l14.npy', allow_pickle=True)\n",
    "Mb = np.load('/Users/veronica/Desktop/bot_medoids_k2_l14.npy', allow_pickle=True)\n",
    "Db = np.load('/Users/veronica/Desktop/bot_dimentions_k2_l14.npy', allow_pickle=True)\n",
    "Xb = np.load('/Users/veronica/Desktop/BotDataset_k6n3_94065.npy', allow_pickle=True)\n",
    "Xb = np.unique(Xb, axis=0)\n",
    "\n",
    "feat_cols = [str(i) for i in range(Xb.shape[1]) ]\n",
    "df = pd.DataFrame(Xb,columns=feat_cols)\n",
    "df['y'] = Ab.astype(int)\n",
    "\n",
    "results = pd.read_csv('/Users/veronica/Desktop/bot_results_k2_l14.csv')\n",
    "S, I, DB = float(results['S']), float(results['I']), float(results['DB'])"
   ]
  },
  {
   "cell_type": "code",
   "execution_count": 275,
   "id": "ce136dbf",
   "metadata": {},
   "outputs": [
    {
     "name": "stdout",
     "output_type": "stream",
     "text": [
      "процент шума:  44.686565179817855\n"
     ]
    }
   ],
   "source": [
    "# шум\n",
    "\n",
    "df_noise = df[df['y'] == -1]\n",
    "print('процент шума: ', len(df_noise) / len(df) * 100)"
   ]
  },
  {
   "cell_type": "code",
   "execution_count": 276,
   "id": "01d866ad",
   "metadata": {},
   "outputs": [],
   "source": [
    "meds = list(Mb.astype(int))\n",
    "size_of_clusters = []\n",
    "\n",
    "for m in meds:\n",
    "    df_i = df[df['y'] == m]\n",
    "    df_i = df_i.reset_index(drop=True)\n",
    "    size_of_clusters.append(len(df_i))\n",
    "\n",
    "norm_size_of_clusters_bymax = [x/max(size_of_clusters) for x in size_of_clusters]\n",
    "norm_size_of_clusters_bylen = [x/len(df) for x in size_of_clusters]"
   ]
  },
  {
   "cell_type": "code",
   "execution_count": 277,
   "id": "01dd5aa3",
   "metadata": {},
   "outputs": [],
   "source": [
    "dist_cent = []\n",
    "dist_med = []\n",
    "\n",
    "for m in meds:\n",
    "    df_i = df[df['y'] == m]\n",
    "    df_i = df_i.drop(columns='y')\n",
    "    medoid = df.iloc[[m]]\n",
    "    medoid = medoid.drop(columns='y')\n",
    "    centroid = df_i.mean()\n",
    "    for index, row in df_i.iterrows():\n",
    "        dist_med.append(np.linalg.norm(row - medoid))\n",
    "        dist_cent.append(np.linalg.norm(row - centroid))"
   ]
  },
  {
   "cell_type": "code",
   "execution_count": 278,
   "id": "50eb4767",
   "metadata": {},
   "outputs": [
    {
     "data": {
      "text/html": [
       "<div>\n",
       "<style scoped>\n",
       "    .dataframe tbody tr th:only-of-type {\n",
       "        vertical-align: middle;\n",
       "    }\n",
       "\n",
       "    .dataframe tbody tr th {\n",
       "        vertical-align: top;\n",
       "    }\n",
       "\n",
       "    .dataframe thead th {\n",
       "        text-align: right;\n",
       "    }\n",
       "</style>\n",
       "<table border=\"1\" class=\"dataframe\">\n",
       "  <thead>\n",
       "    <tr style=\"text-align: right;\">\n",
       "      <th></th>\n",
       "      <th>best bot [Silhouette &amp; DB]</th>\n",
       "    </tr>\n",
       "  </thead>\n",
       "  <tbody>\n",
       "    <tr>\n",
       "      <th>0</th>\n",
       "      <td>-0.067863</td>\n",
       "    </tr>\n",
       "    <tr>\n",
       "      <th>1</th>\n",
       "      <td>1.887956</td>\n",
       "    </tr>\n",
       "    <tr>\n",
       "      <th>2</th>\n",
       "      <td>2.710468</td>\n",
       "    </tr>\n",
       "    <tr>\n",
       "      <th>3</th>\n",
       "      <td>1.230342</td>\n",
       "    </tr>\n",
       "    <tr>\n",
       "      <th>4</th>\n",
       "      <td>0.553134</td>\n",
       "    </tr>\n",
       "    <tr>\n",
       "      <th>5</th>\n",
       "      <td>2.113309</td>\n",
       "    </tr>\n",
       "    <tr>\n",
       "      <th>6</th>\n",
       "      <td>2.979074</td>\n",
       "    </tr>\n",
       "    <tr>\n",
       "      <th>7</th>\n",
       "      <td>0.446866</td>\n",
       "    </tr>\n",
       "    <tr>\n",
       "      <th>8</th>\n",
       "      <td>20802.000000</td>\n",
       "    </tr>\n",
       "  </tbody>\n",
       "</table>\n",
       "</div>"
      ],
      "text/plain": [
       "   best bot [Silhouette & DB]\n",
       "0                   -0.067863\n",
       "1                    1.887956\n",
       "2                    2.710468\n",
       "3                    1.230342\n",
       "4                    0.553134\n",
       "5                    2.113309\n",
       "6                    2.979074\n",
       "7                    0.446866\n",
       "8                20802.000000"
      ]
     },
     "execution_count": 278,
     "metadata": {},
     "output_type": "execute_result"
    }
   ],
   "source": [
    "stats5 = [S, I, DB, sum(norm_size_of_clusters_bymax), sum(norm_size_of_clusters_bylen), np.mean(dist_cent), np.mean(dist_med), len(df_noise) / len(df), np.mean(size_of_clusters)]\n",
    "stats5 = pd.DataFrame(stats5, columns=['best bot [Silhouette & DB]'])\n",
    "stats5"
   ]
  },
  {
   "cell_type": "code",
   "execution_count": 280,
   "id": "818b1b5a",
   "metadata": {},
   "outputs": [
    {
     "data": {
      "text/html": [
       "<div>\n",
       "<style scoped>\n",
       "    .dataframe tbody tr th:only-of-type {\n",
       "        vertical-align: middle;\n",
       "    }\n",
       "\n",
       "    .dataframe tbody tr th {\n",
       "        vertical-align: top;\n",
       "    }\n",
       "\n",
       "    .dataframe thead th {\n",
       "        text-align: right;\n",
       "    }\n",
       "</style>\n",
       "<table border=\"1\" class=\"dataframe\">\n",
       "  <thead>\n",
       "    <tr style=\"text-align: right;\">\n",
       "      <th></th>\n",
       "      <th>best bot [I Index]</th>\n",
       "      <th>best human [I Index]</th>\n",
       "      <th>best bot [Silhouette &amp; DB]</th>\n",
       "      <th>best human [Silhouette &amp; DB]</th>\n",
       "      <th>2nd best human [DB]</th>\n",
       "    </tr>\n",
       "    <tr>\n",
       "      <th>stats</th>\n",
       "      <th></th>\n",
       "      <th></th>\n",
       "      <th></th>\n",
       "      <th></th>\n",
       "      <th></th>\n",
       "    </tr>\n",
       "  </thead>\n",
       "  <tbody>\n",
       "    <tr>\n",
       "      <th>Silhouette score</th>\n",
       "      <td>-0.036539</td>\n",
       "      <td>0.066502</td>\n",
       "      <td>-0.067863</td>\n",
       "      <td>0.613644</td>\n",
       "      <td>-0.180853</td>\n",
       "    </tr>\n",
       "    <tr>\n",
       "      <th>I Index</th>\n",
       "      <td>0.056368</td>\n",
       "      <td>0.094058</td>\n",
       "      <td>1.887956</td>\n",
       "      <td>0.467475</td>\n",
       "      <td>0.009412</td>\n",
       "    </tr>\n",
       "    <tr>\n",
       "      <th>Davies-Bouldin score</th>\n",
       "      <td>2.833617</td>\n",
       "      <td>2.031286</td>\n",
       "      <td>2.710468</td>\n",
       "      <td>4.143210</td>\n",
       "      <td>3.714717</td>\n",
       "    </tr>\n",
       "    <tr>\n",
       "      <th>summed size of clusters / max cluster</th>\n",
       "      <td>2.980610</td>\n",
       "      <td>1.918645</td>\n",
       "      <td>1.230342</td>\n",
       "      <td>1.008998</td>\n",
       "      <td>3.173021</td>\n",
       "    </tr>\n",
       "    <tr>\n",
       "      <th>summed size of clusters / dataset size</th>\n",
       "      <td>0.735731</td>\n",
       "      <td>0.871988</td>\n",
       "      <td>0.553134</td>\n",
       "      <td>0.936165</td>\n",
       "      <td>0.743042</td>\n",
       "    </tr>\n",
       "    <tr>\n",
       "      <th>average dist to cluster center</th>\n",
       "      <td>2.706293</td>\n",
       "      <td>2.184023</td>\n",
       "      <td>2.113309</td>\n",
       "      <td>2.615066</td>\n",
       "      <td>1.804130</td>\n",
       "    </tr>\n",
       "    <tr>\n",
       "      <th>average dist to cluster medoid</th>\n",
       "      <td>3.240494</td>\n",
       "      <td>3.197207</td>\n",
       "      <td>2.979074</td>\n",
       "      <td>2.671642</td>\n",
       "      <td>2.372225</td>\n",
       "    </tr>\n",
       "    <tr>\n",
       "      <th>fraction of noise</th>\n",
       "      <td>0.264269</td>\n",
       "      <td>0.128012</td>\n",
       "      <td>0.446866</td>\n",
       "      <td>0.063835</td>\n",
       "      <td>0.256958</td>\n",
       "    </tr>\n",
       "    <tr>\n",
       "      <th>average size of cluster</th>\n",
       "      <td>6917.250000</td>\n",
       "      <td>33842.500000</td>\n",
       "      <td>20802.000000</td>\n",
       "      <td>72666.500000</td>\n",
       "      <td>5767.600000</td>\n",
       "    </tr>\n",
       "  </tbody>\n",
       "</table>\n",
       "</div>"
      ],
      "text/plain": [
       "                                        best bot [I Index]  \\\n",
       "stats                                                        \n",
       "Silhouette score                                 -0.036539   \n",
       "I Index                                           0.056368   \n",
       "Davies-Bouldin score                              2.833617   \n",
       "summed size of clusters / max cluster             2.980610   \n",
       "summed size of clusters / dataset size            0.735731   \n",
       "average dist to cluster center                    2.706293   \n",
       "average dist to cluster medoid                    3.240494   \n",
       "fraction of noise                                 0.264269   \n",
       "average size of cluster                        6917.250000   \n",
       "\n",
       "                                        best human [I Index]  \\\n",
       "stats                                                          \n",
       "Silhouette score                                    0.066502   \n",
       "I Index                                             0.094058   \n",
       "Davies-Bouldin score                                2.031286   \n",
       "summed size of clusters / max cluster               1.918645   \n",
       "summed size of clusters / dataset size              0.871988   \n",
       "average dist to cluster center                      2.184023   \n",
       "average dist to cluster medoid                      3.197207   \n",
       "fraction of noise                                   0.128012   \n",
       "average size of cluster                         33842.500000   \n",
       "\n",
       "                                        best bot [Silhouette & DB]  \\\n",
       "stats                                                                \n",
       "Silhouette score                                         -0.067863   \n",
       "I Index                                                   1.887956   \n",
       "Davies-Bouldin score                                      2.710468   \n",
       "summed size of clusters / max cluster                     1.230342   \n",
       "summed size of clusters / dataset size                    0.553134   \n",
       "average dist to cluster center                            2.113309   \n",
       "average dist to cluster medoid                            2.979074   \n",
       "fraction of noise                                         0.446866   \n",
       "average size of cluster                               20802.000000   \n",
       "\n",
       "                                        best human [Silhouette & DB]  \\\n",
       "stats                                                                  \n",
       "Silhouette score                                            0.613644   \n",
       "I Index                                                     0.467475   \n",
       "Davies-Bouldin score                                        4.143210   \n",
       "summed size of clusters / max cluster                       1.008998   \n",
       "summed size of clusters / dataset size                      0.936165   \n",
       "average dist to cluster center                              2.615066   \n",
       "average dist to cluster medoid                              2.671642   \n",
       "fraction of noise                                           0.063835   \n",
       "average size of cluster                                 72666.500000   \n",
       "\n",
       "                                        2nd best human [DB]  \n",
       "stats                                                        \n",
       "Silhouette score                                  -0.180853  \n",
       "I Index                                            0.009412  \n",
       "Davies-Bouldin score                               3.714717  \n",
       "summed size of clusters / max cluster              3.173021  \n",
       "summed size of clusters / dataset size             0.743042  \n",
       "average dist to cluster center                     1.804130  \n",
       "average dist to cluster medoid                     2.372225  \n",
       "fraction of noise                                  0.256958  \n",
       "average size of cluster                         5767.600000  "
      ]
     },
     "execution_count": 280,
     "metadata": {},
     "output_type": "execute_result"
    }
   ],
   "source": [
    "index = ['Silhouette score', 'I Index', 'Davies-Bouldin score', 'summed size of clusters / max cluster', 'summed size of clusters / dataset size', 'average dist to cluster center', 'average dist to cluster medoid', 'fraction of noise', 'average size of cluster']\n",
    "index = pd.DataFrame(index, columns=['stats'])\n",
    "\n",
    "results_table = pd.concat([stats2, stats3, stats5, stats4, stats1, index], axis=1)\n",
    "results_table = results_table.set_index('stats')\n",
    "results_table"
   ]
  },
  {
   "cell_type": "code",
   "execution_count": 329,
   "id": "f7de336e",
   "metadata": {},
   "outputs": [
    {
     "data": {
      "text/plain": [
       "[-0.0365392623433518,\n",
       " 0.0563683499188142,\n",
       " 2.833617444336641,\n",
       " 2.9806097166864163,\n",
       " 0.735730904739746,\n",
       " 2.706292562089042,\n",
       " 3.2404940154873687,\n",
       " 0.26426909526025394,\n",
       " 6917.25]"
      ]
     },
     "execution_count": 329,
     "metadata": {},
     "output_type": "execute_result"
    }
   ],
   "source": [
    "stats2.T.values.tolist()[0]"
   ]
  },
  {
   "cell_type": "code",
   "execution_count": 334,
   "id": "007ceb81",
   "metadata": {},
   "outputs": [
    {
     "data": {
      "text/plain": [
       "WilcoxonResult(statistic=14.0, pvalue=0.359375)"
      ]
     },
     "execution_count": 334,
     "metadata": {},
     "output_type": "execute_result"
    }
   ],
   "source": [
    "wilcoxon(stats2.T.values.tolist()[0], stats1.T.values.tolist()[0])"
   ]
  },
  {
   "cell_type": "code",
   "execution_count": 282,
   "id": "967aa6dc",
   "metadata": {},
   "outputs": [
    {
     "data": {
      "text/html": [
       "<div>\n",
       "<style scoped>\n",
       "    .dataframe tbody tr th:only-of-type {\n",
       "        vertical-align: middle;\n",
       "    }\n",
       "\n",
       "    .dataframe tbody tr th {\n",
       "        vertical-align: top;\n",
       "    }\n",
       "\n",
       "    .dataframe thead th {\n",
       "        text-align: right;\n",
       "    }\n",
       "</style>\n",
       "<table border=\"1\" class=\"dataframe\">\n",
       "  <thead>\n",
       "    <tr style=\"text-align: right;\">\n",
       "      <th></th>\n",
       "      <th>best bot [I Index]</th>\n",
       "      <th>best human [I Index]</th>\n",
       "      <th>best bot [Silhouette &amp; DB]</th>\n",
       "      <th>best human [Silhouette &amp; DB]</th>\n",
       "      <th>2nd best human [DB]</th>\n",
       "    </tr>\n",
       "    <tr>\n",
       "      <th>stats</th>\n",
       "      <th></th>\n",
       "      <th></th>\n",
       "      <th></th>\n",
       "      <th></th>\n",
       "      <th></th>\n",
       "    </tr>\n",
       "  </thead>\n",
       "  <tbody>\n",
       "    <tr>\n",
       "      <th>Silhouette score</th>\n",
       "      <td>-0.0</td>\n",
       "      <td>0.1</td>\n",
       "      <td>-0.1</td>\n",
       "      <td>0.6</td>\n",
       "      <td>-0.2</td>\n",
       "    </tr>\n",
       "    <tr>\n",
       "      <th>I Index</th>\n",
       "      <td>0.1</td>\n",
       "      <td>0.1</td>\n",
       "      <td>1.9</td>\n",
       "      <td>0.5</td>\n",
       "      <td>0.0</td>\n",
       "    </tr>\n",
       "    <tr>\n",
       "      <th>Davies-Bouldin score</th>\n",
       "      <td>2.8</td>\n",
       "      <td>2.0</td>\n",
       "      <td>2.7</td>\n",
       "      <td>4.1</td>\n",
       "      <td>3.7</td>\n",
       "    </tr>\n",
       "    <tr>\n",
       "      <th>summed size of clusters / max cluster</th>\n",
       "      <td>3.0</td>\n",
       "      <td>1.9</td>\n",
       "      <td>1.2</td>\n",
       "      <td>1.0</td>\n",
       "      <td>3.2</td>\n",
       "    </tr>\n",
       "    <tr>\n",
       "      <th>summed size of clusters / dataset size</th>\n",
       "      <td>0.7</td>\n",
       "      <td>0.9</td>\n",
       "      <td>0.6</td>\n",
       "      <td>0.9</td>\n",
       "      <td>0.7</td>\n",
       "    </tr>\n",
       "    <tr>\n",
       "      <th>average dist to cluster center</th>\n",
       "      <td>2.7</td>\n",
       "      <td>2.2</td>\n",
       "      <td>2.1</td>\n",
       "      <td>2.6</td>\n",
       "      <td>1.8</td>\n",
       "    </tr>\n",
       "    <tr>\n",
       "      <th>average dist to cluster medoid</th>\n",
       "      <td>3.2</td>\n",
       "      <td>3.2</td>\n",
       "      <td>3.0</td>\n",
       "      <td>2.7</td>\n",
       "      <td>2.4</td>\n",
       "    </tr>\n",
       "    <tr>\n",
       "      <th>fraction of noise</th>\n",
       "      <td>0.3</td>\n",
       "      <td>0.1</td>\n",
       "      <td>0.4</td>\n",
       "      <td>0.1</td>\n",
       "      <td>0.3</td>\n",
       "    </tr>\n",
       "    <tr>\n",
       "      <th>average size of cluster</th>\n",
       "      <td>6917.2</td>\n",
       "      <td>33842.5</td>\n",
       "      <td>20802.0</td>\n",
       "      <td>72666.5</td>\n",
       "      <td>5767.6</td>\n",
       "    </tr>\n",
       "  </tbody>\n",
       "</table>\n",
       "</div>"
      ],
      "text/plain": [
       "                                        best bot [I Index]  \\\n",
       "stats                                                        \n",
       "Silhouette score                                      -0.0   \n",
       "I Index                                                0.1   \n",
       "Davies-Bouldin score                                   2.8   \n",
       "summed size of clusters / max cluster                  3.0   \n",
       "summed size of clusters / dataset size                 0.7   \n",
       "average dist to cluster center                         2.7   \n",
       "average dist to cluster medoid                         3.2   \n",
       "fraction of noise                                      0.3   \n",
       "average size of cluster                             6917.2   \n",
       "\n",
       "                                        best human [I Index]  \\\n",
       "stats                                                          \n",
       "Silhouette score                                         0.1   \n",
       "I Index                                                  0.1   \n",
       "Davies-Bouldin score                                     2.0   \n",
       "summed size of clusters / max cluster                    1.9   \n",
       "summed size of clusters / dataset size                   0.9   \n",
       "average dist to cluster center                           2.2   \n",
       "average dist to cluster medoid                           3.2   \n",
       "fraction of noise                                        0.1   \n",
       "average size of cluster                              33842.5   \n",
       "\n",
       "                                        best bot [Silhouette & DB]  \\\n",
       "stats                                                                \n",
       "Silhouette score                                              -0.1   \n",
       "I Index                                                        1.9   \n",
       "Davies-Bouldin score                                           2.7   \n",
       "summed size of clusters / max cluster                          1.2   \n",
       "summed size of clusters / dataset size                         0.6   \n",
       "average dist to cluster center                                 2.1   \n",
       "average dist to cluster medoid                                 3.0   \n",
       "fraction of noise                                              0.4   \n",
       "average size of cluster                                    20802.0   \n",
       "\n",
       "                                        best human [Silhouette & DB]  \\\n",
       "stats                                                                  \n",
       "Silhouette score                                                 0.6   \n",
       "I Index                                                          0.5   \n",
       "Davies-Bouldin score                                             4.1   \n",
       "summed size of clusters / max cluster                            1.0   \n",
       "summed size of clusters / dataset size                           0.9   \n",
       "average dist to cluster center                                   2.6   \n",
       "average dist to cluster medoid                                   2.7   \n",
       "fraction of noise                                                0.1   \n",
       "average size of cluster                                      72666.5   \n",
       "\n",
       "                                        2nd best human [DB]  \n",
       "stats                                                        \n",
       "Silhouette score                                       -0.2  \n",
       "I Index                                                 0.0  \n",
       "Davies-Bouldin score                                    3.7  \n",
       "summed size of clusters / max cluster                   3.2  \n",
       "summed size of clusters / dataset size                  0.7  \n",
       "average dist to cluster center                          1.8  \n",
       "average dist to cluster medoid                          2.4  \n",
       "fraction of noise                                       0.3  \n",
       "average size of cluster                              5767.6  "
      ]
     },
     "execution_count": 282,
     "metadata": {},
     "output_type": "execute_result"
    }
   ],
   "source": [
    "results_table.round(1)"
   ]
  },
  {
   "cell_type": "code",
   "execution_count": null,
   "id": "6c0642ee",
   "metadata": {},
   "outputs": [],
   "source": []
  },
  {
   "cell_type": "code",
   "execution_count": 283,
   "id": "fca5e30e",
   "metadata": {},
   "outputs": [],
   "source": [
    "from scipy.stats import ks_2samp"
   ]
  },
  {
   "cell_type": "code",
   "execution_count": 286,
   "id": "ba7f7c9f",
   "metadata": {},
   "outputs": [],
   "source": [
    "# best bot [I Index] vs best human [I Index]"
   ]
  },
  {
   "cell_type": "code",
   "execution_count": 285,
   "id": "b9d99c1c",
   "metadata": {},
   "outputs": [],
   "source": [
    "# best bot [I Index]\n",
    "\n",
    "Ab = np.load('/Users/veronica/Desktop/bot_assigns_k8_l17.npy', allow_pickle=True)\n",
    "Mb = np.load('/Users/veronica/Desktop/bot_medoids_k8_l17.npy', allow_pickle=True)\n",
    "Db = np.load('/Users/veronica/Desktop/bot_dimentions_k8_l17.npy', allow_pickle=True)\n",
    "Xb = np.load('/Users/veronica/Desktop/BotDataset_k6n3_94065.npy', allow_pickle=True)\n",
    "Xb = np.unique(Xb, axis=0)\n",
    "\n",
    "feat_cols = [str(i) for i in range(Xb.shape[1]) ]\n",
    "dfb = pd.DataFrame(Xb,columns=feat_cols)\n",
    "dfb['y'] = Ab.astype(int)"
   ]
  },
  {
   "cell_type": "code",
   "execution_count": 289,
   "id": "be38367f",
   "metadata": {},
   "outputs": [],
   "source": [
    "meds = list(Mb.astype(int))\n",
    "bot_size_of_clusters = []\n",
    "\n",
    "for m in meds:\n",
    "    df_i = dfb[dfb['y'] == m]\n",
    "    df_i = df_i.reset_index(drop=True)\n",
    "    bot_size_of_clusters.append(len(df_i))\n",
    "\n",
    "bot_norm_size_of_clusters_bymax = [x/max(bot_size_of_clusters) for x in bot_size_of_clusters]\n",
    "bot_norm_size_of_clusters_bylen = [x/len(dfb) for x in bot_size_of_clusters]"
   ]
  },
  {
   "cell_type": "code",
   "execution_count": 294,
   "id": "e26a597e",
   "metadata": {},
   "outputs": [],
   "source": [
    "bot_dist_cent = []\n",
    "bot_dist_med = []\n",
    "avg_bot_dist_cent = []\n",
    "avg_bot_dist_med = []\n",
    "\n",
    "for m in meds:\n",
    "    df_i = dfb[dfb['y'] == m]\n",
    "    df_i = df_i.drop(columns='y')\n",
    "    medoid = dfb.iloc[[m]]\n",
    "    medoid = medoid.drop(columns='y')\n",
    "    centroid = df_i.mean()\n",
    "    sum_dist_cent = 0\n",
    "    sum_dist_med = 0\n",
    "    for index, row in df_i.iterrows():\n",
    "        med_dist = np.linalg.norm(row - medoid)\n",
    "        cent_dist = np.linalg.norm(row - centroid)\n",
    "        sum_dist_cent += cent_dist\n",
    "        sum_dist_med += med_dist\n",
    "    bot_dist_med.append(sum_dist_med)\n",
    "    bot_dist_cent.append(sum_dist_cent)\n",
    "    avg_bot_dist_med.append(sum_dist_med / len(df_i))\n",
    "    avg_bot_dist_cent.append(sum_dist_cent / len(df_i))"
   ]
  },
  {
   "cell_type": "code",
   "execution_count": 297,
   "id": "b1606c9e",
   "metadata": {},
   "outputs": [],
   "source": [
    "# best human [I Index]\n",
    "\n",
    "A = np.load('/Users/veronica/Desktop/assigns_k4_l17.npy', allow_pickle=True)\n",
    "M = np.load('/Users/veronica/Desktop/medoids_k4_l17.npy', allow_pickle=True)\n",
    "D = np.load('/Users/veronica/Desktop/dimentions_k4_l17.npy', allow_pickle=True)\n",
    "X = np.load('/Users/veronica/Desktop/datasetRU_k6n3_even_512.npy', allow_pickle=True)\n",
    "X = np.unique(X, axis=0)\n",
    "\n",
    "feat_cols = [str(i) for i in range(X.shape[1]) ]\n",
    "df = pd.DataFrame(X,columns=feat_cols)\n",
    "df['y'] = A.astype(int)"
   ]
  },
  {
   "cell_type": "code",
   "execution_count": 298,
   "id": "06554096",
   "metadata": {},
   "outputs": [],
   "source": [
    "meds = list(M.astype(int))\n",
    "size_of_clusters = []\n",
    "\n",
    "for m in meds:\n",
    "    df_i = df[df['y'] == m]\n",
    "    df_i = df_i.reset_index(drop=True)\n",
    "    size_of_clusters.append(len(df_i))\n",
    "\n",
    "norm_size_of_clusters_bymax = [x/max(size_of_clusters) for x in size_of_clusters]\n",
    "norm_size_of_clusters_bylen = [x/len(df) for x in size_of_clusters]"
   ]
  },
  {
   "cell_type": "code",
   "execution_count": 299,
   "id": "4457b0ca",
   "metadata": {},
   "outputs": [],
   "source": [
    "dist_cent = []\n",
    "dist_med = []\n",
    "avg_dist_cent = []\n",
    "avg_dist_med = []\n",
    "\n",
    "for m in meds:\n",
    "    df_i = df[df['y'] == m]\n",
    "    df_i = df_i.drop(columns='y')\n",
    "    medoid = df.iloc[[m]]\n",
    "    medoid = medoid.drop(columns='y')\n",
    "    centroid = df_i.mean()\n",
    "    sum_dist_cent = 0\n",
    "    sum_dist_med = 0\n",
    "    for index, row in df_i.iterrows():\n",
    "        med_dist = np.linalg.norm(row - medoid)\n",
    "        cent_dist = np.linalg.norm(row - centroid)\n",
    "        sum_dist_cent += cent_dist\n",
    "        sum_dist_med += med_dist\n",
    "    dist_med.append(sum_dist_med)\n",
    "    dist_cent.append(sum_dist_cent)\n",
    "    avg_dist_med.append(sum_dist_med / len(df_i))\n",
    "    avg_dist_cent.append(sum_dist_cent / len(df_i))"
   ]
  },
  {
   "cell_type": "code",
   "execution_count": 303,
   "id": "871a12bf",
   "metadata": {},
   "outputs": [
    {
     "data": {
      "text/plain": [
       "KstestResult(statistic=0.25, pvalue=0.9979797979797981)"
      ]
     },
     "execution_count": 303,
     "metadata": {},
     "output_type": "execute_result"
    }
   ],
   "source": [
    "ks_2samp(bot_norm_size_of_clusters_bymax, norm_size_of_clusters_bymax)"
   ]
  },
  {
   "cell_type": "code",
   "execution_count": 305,
   "id": "4e1f32c8",
   "metadata": {},
   "outputs": [
    {
     "data": {
      "text/plain": [
       "KstestResult(statistic=0.5, pvalue=0.513131313131313)"
      ]
     },
     "execution_count": 305,
     "metadata": {},
     "output_type": "execute_result"
    }
   ],
   "source": [
    "ks_2samp(bot_norm_size_of_clusters_bylen, norm_size_of_clusters_bylen)"
   ]
  },
  {
   "cell_type": "code",
   "execution_count": 307,
   "id": "211f9dd7",
   "metadata": {},
   "outputs": [
    {
     "data": {
      "text/plain": [
       "KstestResult(statistic=0.375, pvalue=0.8363636363636363)"
      ]
     },
     "execution_count": 307,
     "metadata": {},
     "output_type": "execute_result"
    }
   ],
   "source": [
    "ks_2samp(avg_dist_med, avg_bot_dist_med)"
   ]
  },
  {
   "cell_type": "code",
   "execution_count": 308,
   "id": "c50af472",
   "metadata": {},
   "outputs": [
    {
     "data": {
      "text/plain": [
       "KstestResult(statistic=0.25, pvalue=0.9979797979797981)"
      ]
     },
     "execution_count": 308,
     "metadata": {},
     "output_type": "execute_result"
    }
   ],
   "source": [
    "ks_2samp(avg_dist_cent, avg_bot_dist_cent)"
   ]
  },
  {
   "cell_type": "code",
   "execution_count": 316,
   "id": "9e4ac8ed",
   "metadata": {},
   "outputs": [
    {
     "data": {
      "text/plain": [
       "KstestResult(statistic=0.5, pvalue=0.513131313131313)"
      ]
     },
     "execution_count": 316,
     "metadata": {},
     "output_type": "execute_result"
    }
   ],
   "source": [
    "ks_2samp(bot_dist_cent, dist_cent)"
   ]
  },
  {
   "cell_type": "code",
   "execution_count": 317,
   "id": "c30e9ea5",
   "metadata": {},
   "outputs": [
    {
     "data": {
      "text/plain": [
       "KstestResult(statistic=0.625, pvalue=0.2222222222222222)"
      ]
     },
     "execution_count": 317,
     "metadata": {},
     "output_type": "execute_result"
    }
   ],
   "source": [
    "ks_2samp(bot_dist_med, dist_med)"
   ]
  },
  {
   "cell_type": "code",
   "execution_count": 318,
   "id": "15804f48",
   "metadata": {},
   "outputs": [
    {
     "data": {
      "text/plain": [
       "KstestResult(statistic=0.5, pvalue=0.513131313131313)"
      ]
     },
     "execution_count": 318,
     "metadata": {},
     "output_type": "execute_result"
    }
   ],
   "source": [
    "ks_2samp(bot_size_of_clusters, size_of_clusters)"
   ]
  },
  {
   "cell_type": "code",
   "execution_count": 313,
   "id": "ef267d6e",
   "metadata": {},
   "outputs": [
    {
     "data": {
      "text/plain": [
       "[0.03269417214262631,\n",
       " 0.18606592696326618,\n",
       " 0.28654529785629645,\n",
       " 0.9849994613810191]"
      ]
     },
     "execution_count": 313,
     "metadata": {},
     "output_type": "execute_result"
    }
   ],
   "source": [
    "d = []\n",
    "bot_norm_size_of_clusters_bymax = sorted(bot_norm_size_of_clusters_bymax)\n",
    "for i in range(0, len(bot_norm_size_of_clusters_bymax), 2):\n",
    "    d.append((bot_norm_size_of_clusters_bymax[i] + bot_norm_size_of_clusters_bymax[i+1])/2)\n",
    "d"
   ]
  },
  {
   "cell_type": "code",
   "execution_count": 314,
   "id": "1fb39c0f",
   "metadata": {},
   "outputs": [
    {
     "data": {
      "text/plain": [
       "WilcoxonResult(statistic=4.0, pvalue=0.875)"
      ]
     },
     "execution_count": 314,
     "metadata": {},
     "output_type": "execute_result"
    }
   ],
   "source": [
    "from scipy.stats import wilcoxon\n",
    "wilcoxon(d, sorted(norm_size_of_clusters_bymax))"
   ]
  },
  {
   "cell_type": "code",
   "execution_count": 315,
   "id": "0ae0c9bc",
   "metadata": {},
   "outputs": [
    {
     "data": {
      "text/plain": [
       "KstestResult(statistic=0.25, pvalue=1.0)"
      ]
     },
     "execution_count": 315,
     "metadata": {},
     "output_type": "execute_result"
    }
   ],
   "source": [
    "ks_2samp(d, sorted(norm_size_of_clusters_bymax))"
   ]
  },
  {
   "cell_type": "code",
   "execution_count": null,
   "id": "533bf5bf",
   "metadata": {},
   "outputs": [],
   "source": [
    "# best human [Silhouette & DB]\n",
    "\n",
    "A = np.load('/Users/veronica/Desktop/assigns_k2_l14.npy', allow_pickle=True)\n",
    "M = np.load('/Users/veronica/Desktop/medoids_k2_l14.npy', allow_pickle=True)\n",
    "D = np.load('/Users/veronica/Desktop/dimentions_k2_l14.npy', allow_pickle=True)\n",
    "X = np.load('/Users/veronica/Desktop/datasetRU_k6n3_even_512.npy', allow_pickle=True)\n",
    "X = np.unique(X, axis=0)\n",
    "\n",
    "feat_cols = [str(i) for i in range(X.shape[1]) ]\n",
    "df = pd.DataFrame(X,columns=feat_cols)\n",
    "df['y'] = A.astype(int)"
   ]
  },
  {
   "cell_type": "code",
   "execution_count": null,
   "id": "1ae03ba8",
   "metadata": {},
   "outputs": [],
   "source": [
    "meds = list(M.astype(int))\n",
    "size_of_clusters = []\n",
    "\n",
    "for m in meds:\n",
    "    df_i = df[df['y'] == m]\n",
    "    df_i = df_i.reset_index(drop=True)\n",
    "    size_of_clusters.append(len(df_i))\n",
    "\n",
    "norm_size_of_clusters_bymax2 = [x/max(size_of_clusters) for x in size_of_clusters]\n",
    "norm_size_of_clusters_bylen2 = [x/len(df) for x in size_of_clusters]"
   ]
  },
  {
   "cell_type": "code",
   "execution_count": null,
   "id": "b053bf1a",
   "metadata": {},
   "outputs": [],
   "source": [
    "dist_cent2 = []\n",
    "dist_med2 = []\n",
    "avg_dist_cent2 = []\n",
    "avg_dist_med2 = []\n",
    "\n",
    "for m in meds:\n",
    "    df_i = df[df['y'] == m]\n",
    "    df_i = df_i.drop(columns='y')\n",
    "    medoid = df.iloc[[m]]\n",
    "    medoid = medoid.drop(columns='y')\n",
    "    centroid = df_i.mean()\n",
    "    sum_dist_cent = 0\n",
    "    sum_dist_med = 0\n",
    "    for index, row in df_i.iterrows():\n",
    "        med_dist = np.linalg.norm(row - medoid)\n",
    "        cent_dist = np.linalg.norm(row - centroid)\n",
    "        sum_dist_cent += cent_dist\n",
    "        sum_dist_med += med_dist\n",
    "    dist_med.append(sum_dist_med)\n",
    "    dist_cent.append(sum_dist_cent)\n",
    "    avg_dist_med.append(sum_dist_med / len(df_i))\n",
    "    avg_dist_cent.append(sum_dist_cent / len(df_i))"
   ]
  }
 ],
 "metadata": {
  "kernelspec": {
   "display_name": "Python 3 (ipykernel)",
   "language": "python",
   "name": "python3"
  },
  "language_info": {
   "codemirror_mode": {
    "name": "ipython",
    "version": 3
   },
   "file_extension": ".py",
   "mimetype": "text/x-python",
   "name": "python",
   "nbconvert_exporter": "python",
   "pygments_lexer": "ipython3",
   "version": "3.9.12"
  }
 },
 "nbformat": 4,
 "nbformat_minor": 5
}
