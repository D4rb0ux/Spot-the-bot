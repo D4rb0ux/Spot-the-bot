{
 "cells": [
  {
   "cell_type": "code",
   "execution_count": 1,
   "id": "fbddb512",
   "metadata": {},
   "outputs": [
    {
     "data": {
      "text/plain": [
       "10403"
      ]
     },
     "execution_count": 1,
     "metadata": {},
     "output_type": "execute_result"
    }
   ],
   "source": [
    "import pandas as pd\n",
    "\n",
    "#тексты сгенерированные ботом\n",
    "\n",
    "bottexts = pd.read_csv('/Users/veronica/Desktop/BotRuPreprocessedNoSep.csv')\n",
    "len(bottexts)"
   ]
  },
  {
   "cell_type": "code",
   "execution_count": 2,
   "id": "22f45b28",
   "metadata": {},
   "outputs": [
    {
     "data": {
      "text/plain": [
       "5201"
      ]
     },
     "execution_count": 2,
     "metadata": {},
     "output_type": "execute_result"
    }
   ],
   "source": [
    "import numpy as np\n",
    "\n",
    "def split_df(df):\n",
    "    if len(df) % 2 != 0:  # Handling `df` with `odd` number of rows\n",
    "        df = df.iloc[:-1, :]\n",
    "    df1, df2 =  np.array_split(df, 2)\n",
    "    return df1, df2\n",
    "\n",
    "bottexts1, bottexts2 = split_df(bottexts)\n",
    "len(bottexts1)"
   ]
  },
  {
   "cell_type": "code",
   "execution_count": 3,
   "id": "07c6d16c",
   "metadata": {},
   "outputs": [
    {
     "data": {
      "text/plain": [
       "106378"
      ]
     },
     "execution_count": 3,
     "metadata": {},
     "output_type": "execute_result"
    }
   ],
   "source": [
    "import json\n",
    "\n",
    "# словарь\n",
    "\n",
    "with open('/Users/veronica/Desktop/RuWordVectorDict8.json') as json_file:\n",
    "    dictionary = json.load(json_file)\n",
    "len(dictionary)"
   ]
  },
  {
   "cell_type": "code",
   "execution_count": 14,
   "id": "524c9cdb",
   "metadata": {},
   "outputs": [],
   "source": [
    "# составление датасета n-грамм из текстов ботов\n",
    "\n",
    "dataset_ngramm = list()\n",
    "n = 3\n",
    "k = 6\n",
    "j = 0\n",
    "for index, row in bottexts1.iterrows():\n",
    "    if j <= 10:\n",
    "        text = row[0].split(' ')\n",
    "        i = 0\n",
    "        for word in text:\n",
    "            if i < len(text) - n + 1:\n",
    "                try:\n",
    "                    n_gramma = text[i:i+n]\n",
    "                    n_gramma_vect = []\n",
    "                    for w in n_gramma:\n",
    "                        n_gramma_vect += dictionary[w][:k]\n",
    "                    n_gramma_vect = np.array(n_gramma_vect)\n",
    "                    dataset_ngramm.append(n_gramma_vect)\n",
    "                except:\n",
    "                    pass\n",
    "            i += 1\n",
    "    else:\n",
    "        break\n",
    "    j += 1"
   ]
  },
  {
   "cell_type": "code",
   "execution_count": 19,
   "id": "eae114ea",
   "metadata": {},
   "outputs": [
    {
     "data": {
      "text/plain": [
       "94065"
      ]
     },
     "execution_count": 19,
     "metadata": {},
     "output_type": "execute_result"
    }
   ],
   "source": [
    "len(dataset_ngramm)"
   ]
  },
  {
   "cell_type": "code",
   "execution_count": 20,
   "id": "f540b4e2",
   "metadata": {},
   "outputs": [],
   "source": [
    "with open('/Users/veronica/Desktop/BotDataset_k6n3_94065.npy', 'wb') as f:\n",
    "    np.save(f, dataset_ngramm)"
   ]
  }
 ],
 "metadata": {
  "kernelspec": {
   "display_name": "Python 3 (ipykernel)",
   "language": "python",
   "name": "python3"
  },
  "language_info": {
   "codemirror_mode": {
    "name": "ipython",
    "version": 3
   },
   "file_extension": ".py",
   "mimetype": "text/x-python",
   "name": "python",
   "nbconvert_exporter": "python",
   "pygments_lexer": "ipython3",
   "version": "3.9.12"
  }
 },
 "nbformat": 4,
 "nbformat_minor": 5
}
