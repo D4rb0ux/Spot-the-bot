{
 "cells": [
  {
   "cell_type": "code",
   "execution_count": 2,
   "id": "e0e09177",
   "metadata": {},
   "outputs": [
    {
     "data": {
      "text/plain": [
       "10403"
      ]
     },
     "execution_count": 2,
     "metadata": {},
     "output_type": "execute_result"
    }
   ],
   "source": [
    "import pandas as pd\n",
    "\n",
    "texts = pd.read_csv('/Users/veronica/Downloads/RuPreprocessedNoSep.csv')\n",
    "len(texts)"
   ]
  },
  {
   "cell_type": "code",
   "execution_count": 4,
   "id": "8178c088",
   "metadata": {},
   "outputs": [
    {
     "data": {
      "text/plain": [
       "5201"
      ]
     },
     "execution_count": 4,
     "metadata": {},
     "output_type": "execute_result"
    }
   ],
   "source": [
    "import numpy as np\n",
    "\n",
    "def split_df(df):\n",
    "    if len(df) % 2 != 0:  # Handling `df` with `odd` number of rows\n",
    "        df = df.iloc[:-1, :]\n",
    "    df1, df2 =  np.array_split(df, 2)\n",
    "    return df1, df2\n",
    "\n",
    "texts1, texts2 = split_df(texts)\n",
    "len(texts1)"
   ]
  },
  {
   "cell_type": "code",
   "execution_count": 5,
   "id": "3399fdb4",
   "metadata": {},
   "outputs": [
    {
     "data": {
      "text/plain": [
       "106378"
      ]
     },
     "execution_count": 5,
     "metadata": {},
     "output_type": "execute_result"
    }
   ],
   "source": [
    "import json\n",
    "\n",
    "# словарь\n",
    "\n",
    "with open('/Users/veronica/Desktop/RuWordVectorDict8.json') as json_file:\n",
    "    dictionary = json.load(json_file)\n",
    "len(dictionary)"
   ]
  },
  {
   "cell_type": "code",
   "execution_count": 7,
   "id": "977201e7",
   "metadata": {},
   "outputs": [
    {
     "data": {
      "text/plain": [
       "100936"
      ]
     },
     "execution_count": 7,
     "metadata": {},
     "output_type": "execute_result"
    }
   ],
   "source": [
    "# составление датасета n-грамм из текстов\n",
    "\n",
    "dataset_ngramm = list()\n",
    "n = 3\n",
    "k = 6\n",
    "j = 0\n",
    "for index, row in texts1.iterrows():\n",
    "    if j <= 10:\n",
    "        text = row[0].split(' ')\n",
    "        i = 0\n",
    "        for word in text:\n",
    "            if i < len(text) - n + 1:\n",
    "                try:\n",
    "                    n_gramma = text[i:i+n]\n",
    "                    n_gramma_vect = []\n",
    "                    for w in n_gramma:\n",
    "                        n_gramma_vect += dictionary[w][:k]\n",
    "                    n_gramma_vect = np.array(n_gramma_vect)\n",
    "                    dataset_ngramm.append(n_gramma_vect)\n",
    "                except:\n",
    "                    pass\n",
    "            i += 1\n",
    "    else:\n",
    "        break\n",
    "    j += 1\n",
    "    \n",
    "len(dataset_ngramm)"
   ]
  },
  {
   "cell_type": "code",
   "execution_count": 8,
   "id": "10f6b77c",
   "metadata": {},
   "outputs": [],
   "source": [
    "with open('/Users/veronica/Desktop/HumanDataset_k6n3_100936.npy', 'wb') as f:\n",
    "    np.save(f, dataset_ngramm)"
   ]
  },
  {
   "cell_type": "code",
   "execution_count": null,
   "id": "6fd40eee",
   "metadata": {},
   "outputs": [],
   "source": [
    "import numpy as np\n",
    "\n",
    "def create_dataset(corpus: list, k: int, n: int) -> np.array:\n",
    "    dataset_ngramm = list()\n",
    "    for text in corpus:\n",
    "        for sentence in text:\n",
    "            i = 0\n",
    "            for word, vector in sentence['sentence_text'].items():\n",
    "                if i < len(sentence['sentence_text']) - n + 1:\n",
    "                    try:\n",
    "                        n_gramma = list(sentence['sentence_text'].items())[i:i+n]\n",
    "                        n_gramma_vect = np.array(n_gramma[0][1][:k])\n",
    "                        for j in range(1, n):\n",
    "                            try:\n",
    "                                n_gramma_vect = np.concatenate([n_gramma_vect,np.array(n_gramma[j][1][:k])])\n",
    "                            except:\n",
    "                                pass\n",
    "                        dataset_ngramm.append(n_gramma_vect)\n",
    "                    except:\n",
    "                        pass\n",
    "                i += 1\n",
    "    return np.array(dataset_ngramm, dtype=object)\n",
    "\n",
    "with open('/home/fibykov/veronica/datasetRU_k6n3.npy', 'wb') as f:\n",
    "    corpus = np.load('/home/fibykov/veronica/RuVectorizedCorpus8.npy', allow_pickle=True)\n",
    "    corpus = corpus.tolist()\n",
    "    dataset = create_dataset(corpus, 6, 3)\n",
    "    np.save(f, dataset)\n",
    "    print(\"vectors in dataset:\", len(dataset))\n",
    "    lens = dict()\n",
    "    for vector in dataset:\n",
    "        if len(vector) in lens.keys():\n",
    "            lens[len(vector)] += 1\n",
    "        else:\n",
    "            lens[len(vector)] = 1\n",
    "    print(\"dictionary of vector lengths:\", lens)\n"
   ]
  }
 ],
 "metadata": {
  "kernelspec": {
   "display_name": "Python 3 (ipykernel)",
   "language": "python",
   "name": "python3"
  },
  "language_info": {
   "codemirror_mode": {
    "name": "ipython",
    "version": 3
   },
   "file_extension": ".py",
   "mimetype": "text/x-python",
   "name": "python",
   "nbconvert_exporter": "python",
   "pygments_lexer": "ipython3",
   "version": "3.9.12"
  }
 },
 "nbformat": 4,
 "nbformat_minor": 5
}
